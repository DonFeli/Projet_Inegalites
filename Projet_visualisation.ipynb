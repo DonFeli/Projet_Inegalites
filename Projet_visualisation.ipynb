{
 "cells": [
  {
   "cell_type": "markdown",
   "metadata": {},
   "source": [
    "# Data visualisation project\n",
    "> **Uzma, Youssra, Félita**<br>\n",
    "> **M1 MéDAS 2020-2021**"
   ]
  },
  {
   "cell_type": "markdown",
   "metadata": {},
   "source": [
    "### Problématique"
   ]
  },
  {
   "cell_type": "markdown",
   "metadata": {},
   "source": [
    " Ayant un intérêt particulier pour la santé et les inégalités, nous voulons analyser comment ces deux enjeux s'articulent. <br> Certaines études ont déjà été faites à ce sujet mais à une échelle beaucoup plus globale, notamment *The Spirit Level: Why Equality is Better for Everyone* écrits par les fondateurs de Equality Trust, Richard G. Wilkinson et Kate Pickett. Nous aurons un objectif commun avec ce livre, démontrer les effets des inégalités sociales sur la santé, mais en nous concentrant sur la France et en explorant des maladies précises."
   ]
  },
  {
   "cell_type": "markdown",
   "metadata": {},
   "source": [
    "### Jeu de données"
   ]
  },
  {
   "cell_type": "markdown",
   "metadata": {},
   "source": [
    "Nous avons trouvé les données sur le site de l'INSEE, en choisissant un niveau de granularité départemental.<br>\n",
    "Nous avons choisi des indicateurs qui représentent au mieux le thème de l'inégalité tout en permettant une comparaison standardisée entre les départements :\n",
    "- le taux de pauvreté est plus représentatif des disparités sociales comparé à une moyenne des revenus\n",
    "- les taux de maladie standardisés homogénisent les différences démographiques"
   ]
  },
  {
   "cell_type": "markdown",
   "metadata": {},
   "source": [
    "### Questionnement et Méthode"
   ]
  },
  {
   "cell_type": "markdown",
   "metadata": {},
   "source": [
    "Notre méthodologie est non-discrimatoire entre les maladies, c'est-à-dire que nos jeu de données sont des maladies de nature différentes afin de connaître celles pour lesquelles le niveau de vie semble jouer un rôle important. Cependant nous excluons les maladies génétiques..."
   ]
  },
  {
   "cell_type": "markdown",
   "metadata": {},
   "source": [
    "### Code"
   ]
  },
  {
   "cell_type": "code",
   "execution_count": null,
   "metadata": {},
   "outputs": [],
   "source": []
  }
 ],
 "metadata": {
  "kernelspec": {
   "display_name": "Python 3",
   "language": "python",
   "name": "python3"
  },
  "language_info": {
   "codemirror_mode": {
    "name": "ipython",
    "version": 3
   },
   "file_extension": ".py",
   "mimetype": "text/x-python",
   "name": "python",
   "nbconvert_exporter": "python",
   "pygments_lexer": "ipython3",
   "version": "3.8.1"
  }
 },
 "nbformat": 4,
 "nbformat_minor": 4
}
