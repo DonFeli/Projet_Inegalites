{
 "cells": [
  {
   "cell_type": "markdown",
   "metadata": {},
   "source": [
    "# Data visualisation project\n",
    "> **Uzma, Youssra, Félita**<br>\n",
    "> **M1 MéDAS 2020-2021**"
   ]
  },
  {
   "cell_type": "markdown",
   "metadata": {},
   "source": [
    "### Problématique"
   ]
  },
  {
   "cell_type": "markdown",
   "metadata": {},
   "source": [
    " Ayant un intérêt particulier pour la santé et les inégalités, nous voulons analyser comment ces deux enjeux sont liés. <br> Certaines études ont déjà été faites à ce sujet mais à une échelle beaucoup plus globale, notamment *The Spirit Level: Why Equality is Better for Everyone* de Richard G. Wilkinson et Kate Pickett. Nous aurons un objectif commun avec ce livre, démontrer les effets des inégalités sociales sur la santé, mais en nous concentrant sur la France et en explorant des maladies précises."
   ]
  },
  {
   "cell_type": "markdown",
   "metadata": {},
   "source": [
    "### Jeu de données"
   ]
  },
  {
   "cell_type": "markdown",
   "metadata": {},
   "source": [
    "Nous avons trouvé les données sur le site de l'INSEE, en choisissant un niveau de granularité départemental.<br>\n",
    "Nous avons choisi des indicateurs qui représentent au mieux le thème de l'inégalité tout en permettant une comparaison standardisée entre les départements :\n",
    "- le taux de pauvreté est plus représentatif des disparités sociales comparé à une moyenne des revenus\n",
    "- les taux de maladie standardisés homogénisent les différences démographiques"
   ]
  },
  {
   "cell_type": "markdown",
   "metadata": {},
   "source": [
    "### Questionnement et Méthode"
   ]
  },
  {
   "cell_type": "markdown",
   "metadata": {},
   "source": [
    "Nous partons d'une approche \"d'enquête\" : nous ne savons a priori pas si toutes les maladies sont liées au niveau de vie, si il y en a plus que d'autres, lesquelles seraient-elles et pourquoi. La structure du code est donc chronologiquement basée sur nos explorations et nos découvertes.<br>\n",
    "- Phase 1 Exploration : sélection de plusieurs maladies répandues et de nature différente\n",
    "- Phase 2  \n",
    "- Phase 3 Approfondissement : recherche sur les maladies corrélées au niveau de vie"
   ]
  },
  {
   "cell_type": "markdown",
   "metadata": {},
   "source": [
    "## Code"
   ]
  },
  {
   "cell_type": "code",
   "execution_count": 1,
   "metadata": {},
   "outputs": [],
   "source": [
    "import pandas as pd\n",
    "import matplotlib\n",
    "import matplotlib.pyplot as plt\n",
    "import numpy as np\n",
    "import os\n",
    "from functools import reduce\n",
    "import seaborn as sns\n",
    "import geopandas as gpd"
   ]
  },
  {
   "cell_type": "code",
   "execution_count": 2,
   "metadata": {},
   "outputs": [],
   "source": [
    "items = os.listdir('Data/geodes')\n",
    "\n",
    "# filenames = []\n",
    "files_list = []\n",
    "\n",
    "for file in items:\n",
    "    if file.endswith('.csv'):\n",
    "        files_list.append(file)\n",
    "        \n",
    "#         filename = file.split('.')[0]\n",
    "#         filenames.append(filename)"
   ]
  },
  {
   "cell_type": "code",
   "execution_count": 3,
   "metadata": {},
   "outputs": [],
   "source": [
    "maladies = []\n",
    "for file in files_list:\n",
    "    df = pd.read_csv(f\"Data/geodes/{file}\", sep=';', header=2)\n",
    "    maladies.append(df)  "
   ]
  },
  {
   "cell_type": "code",
   "execution_count": 4,
   "metadata": {},
   "outputs": [],
   "source": [
    "pauvrete = pd.read_csv('Data/pauvrete.csv', sep=';')\n",
    "pauvrete = pauvrete.loc[:, ['CODGEO', 'MED17', 'TP6017']]\n",
    "pauvrete.columns = ['Code', 'Médiane du niveau de vie', 'Taux de pauvreté']"
   ]
  },
  {
   "cell_type": "markdown",
   "metadata": {},
   "source": [
    "## Phase 1 : Trouver les coefficients de corrélation entre le niveau de vie et plusieurs maladies"
   ]
  },
  {
   "cell_type": "code",
   "execution_count": 5,
   "metadata": {},
   "outputs": [],
   "source": [
    "merged = reduce(lambda left, right: pd.merge(left, right), maladies)"
   ]
  },
  {
   "cell_type": "code",
   "execution_count": 6,
   "metadata": {},
   "outputs": [],
   "source": [
    "social_data = pauvrete.merge(merged, left_on='Code', right_on='Code')"
   ]
  },
  {
   "cell_type": "code",
   "execution_count": 7,
   "metadata": {},
   "outputs": [
    {
     "data": {
      "text/html": [
       "<div>\n",
       "<style scoped>\n",
       "    .dataframe tbody tr th:only-of-type {\n",
       "        vertical-align: middle;\n",
       "    }\n",
       "\n",
       "    .dataframe tbody tr th {\n",
       "        vertical-align: top;\n",
       "    }\n",
       "\n",
       "    .dataframe thead th {\n",
       "        text-align: right;\n",
       "    }\n",
       "</style>\n",
       "<table border=\"1\" class=\"dataframe\">\n",
       "  <thead>\n",
       "    <tr style=\"text-align: right;\">\n",
       "      <th></th>\n",
       "      <th>Code</th>\n",
       "      <th>Médiane du niveau de vie</th>\n",
       "      <th>Taux de pauvreté</th>\n",
       "      <th>Libellé</th>\n",
       "      <th>Taux d'hospitalisation pour pathologies ORL 2020-S43</th>\n",
       "      <th>Taux standardisé de tentatives de suicide 2017</th>\n",
       "      <th>Taux d'hospitalisation pour asthme 2020-S44</th>\n",
       "      <th>Taux d'hospitalisation pour gastro-entérite aiguë 2020-S44</th>\n",
       "      <th>Taux de notification - méningocoque B 2019</th>\n",
       "      <th>Taux standardisé de patients hospitalisés pour AVC 2016</th>\n",
       "      <th>Taux de prévalence standardisé de la maladie de Parkinson 2015</th>\n",
       "      <th>Taux de prévalence standardisé de diabète traité pharmacologiquement 2016</th>\n",
       "      <th>Taux de sérologies positives pour VIH 2018</th>\n",
       "    </tr>\n",
       "  </thead>\n",
       "  <tbody>\n",
       "    <tr>\n",
       "      <th>0</th>\n",
       "      <td>01</td>\n",
       "      <td>22640</td>\n",
       "      <td>10.5</td>\n",
       "      <td>Ain</td>\n",
       "      <td>0.0</td>\n",
       "      <td>110.5</td>\n",
       "      <td>5000.0</td>\n",
       "      <td>0.0</td>\n",
       "      <td>0.00</td>\n",
       "      <td>154.1</td>\n",
       "      <td>2.56</td>\n",
       "      <td>4.39</td>\n",
       "      <td>0.6</td>\n",
       "    </tr>\n",
       "    <tr>\n",
       "      <th>1</th>\n",
       "      <td>02</td>\n",
       "      <td>19100</td>\n",
       "      <td>18.5</td>\n",
       "      <td>Aisne</td>\n",
       "      <td>119.0</td>\n",
       "      <td>224.1</td>\n",
       "      <td>1538.0</td>\n",
       "      <td>1000.0</td>\n",
       "      <td>0.38</td>\n",
       "      <td>171.6</td>\n",
       "      <td>2.35</td>\n",
       "      <td>6.27</td>\n",
       "      <td>0.7</td>\n",
       "    </tr>\n",
       "    <tr>\n",
       "      <th>2</th>\n",
       "      <td>03</td>\n",
       "      <td>19750</td>\n",
       "      <td>15.4</td>\n",
       "      <td>Allier</td>\n",
       "      <td>0.0</td>\n",
       "      <td>161.8</td>\n",
       "      <td>0.0</td>\n",
       "      <td>2222.2</td>\n",
       "      <td>0.00</td>\n",
       "      <td>163.9</td>\n",
       "      <td>2.40</td>\n",
       "      <td>5.19</td>\n",
       "      <td>1.6</td>\n",
       "    </tr>\n",
       "    <tr>\n",
       "      <th>3</th>\n",
       "      <td>04</td>\n",
       "      <td>19940</td>\n",
       "      <td>16.6</td>\n",
       "      <td>Alpes-de-Haute-Provence</td>\n",
       "      <td>357.0</td>\n",
       "      <td>145.5</td>\n",
       "      <td>1000.0</td>\n",
       "      <td>1250.0</td>\n",
       "      <td>0.61</td>\n",
       "      <td>148.1</td>\n",
       "      <td>2.29</td>\n",
       "      <td>4.32</td>\n",
       "      <td>NaN</td>\n",
       "    </tr>\n",
       "    <tr>\n",
       "      <th>4</th>\n",
       "      <td>05</td>\n",
       "      <td>20350</td>\n",
       "      <td>13.9</td>\n",
       "      <td>Hautes-Alpes</td>\n",
       "      <td>0.0</td>\n",
       "      <td>144.5</td>\n",
       "      <td>4000.0</td>\n",
       "      <td>1428.6</td>\n",
       "      <td>1.41</td>\n",
       "      <td>143.9</td>\n",
       "      <td>2.59</td>\n",
       "      <td>3.91</td>\n",
       "      <td>0.8</td>\n",
       "    </tr>\n",
       "    <tr>\n",
       "      <th>...</th>\n",
       "      <td>...</td>\n",
       "      <td>...</td>\n",
       "      <td>...</td>\n",
       "      <td>...</td>\n",
       "      <td>...</td>\n",
       "      <td>...</td>\n",
       "      <td>...</td>\n",
       "      <td>...</td>\n",
       "      <td>...</td>\n",
       "      <td>...</td>\n",
       "      <td>...</td>\n",
       "      <td>...</td>\n",
       "      <td>...</td>\n",
       "    </tr>\n",
       "    <tr>\n",
       "      <th>93</th>\n",
       "      <td>93</td>\n",
       "      <td>17310</td>\n",
       "      <td>27.9</td>\n",
       "      <td>Seine-Saint-Denis</td>\n",
       "      <td>290.0</td>\n",
       "      <td>58.6</td>\n",
       "      <td>2364.0</td>\n",
       "      <td>1428.6</td>\n",
       "      <td>0.12</td>\n",
       "      <td>193.9</td>\n",
       "      <td>2.16</td>\n",
       "      <td>7.76</td>\n",
       "      <td>2.9</td>\n",
       "    </tr>\n",
       "    <tr>\n",
       "      <th>94</th>\n",
       "      <td>94</td>\n",
       "      <td>22290</td>\n",
       "      <td>16.3</td>\n",
       "      <td>Val-de-Marne</td>\n",
       "      <td>338.0</td>\n",
       "      <td>77.6</td>\n",
       "      <td>2157.0</td>\n",
       "      <td>1219.5</td>\n",
       "      <td>0.21</td>\n",
       "      <td>166.3</td>\n",
       "      <td>2.24</td>\n",
       "      <td>5.47</td>\n",
       "      <td>2.9</td>\n",
       "    </tr>\n",
       "    <tr>\n",
       "      <th>95</th>\n",
       "      <td>95</td>\n",
       "      <td>21470</td>\n",
       "      <td>16.6</td>\n",
       "      <td>Val-d'Oise</td>\n",
       "      <td>101.0</td>\n",
       "      <td>85.4</td>\n",
       "      <td>2581.0</td>\n",
       "      <td>1000.0</td>\n",
       "      <td>0.08</td>\n",
       "      <td>174.2</td>\n",
       "      <td>2.62</td>\n",
       "      <td>6.43</td>\n",
       "      <td>1.8</td>\n",
       "    </tr>\n",
       "    <tr>\n",
       "      <th>96</th>\n",
       "      <td>972</td>\n",
       "      <td>17580</td>\n",
       "      <td>28.6</td>\n",
       "      <td>Martinique</td>\n",
       "      <td>NaN</td>\n",
       "      <td>84.6</td>\n",
       "      <td>NaN</td>\n",
       "      <td>NaN</td>\n",
       "      <td>0.28</td>\n",
       "      <td>199.0</td>\n",
       "      <td>1.64</td>\n",
       "      <td>7.67</td>\n",
       "      <td>2.8</td>\n",
       "    </tr>\n",
       "    <tr>\n",
       "      <th>97</th>\n",
       "      <td>974</td>\n",
       "      <td>15020</td>\n",
       "      <td>38.3</td>\n",
       "      <td>Réunion</td>\n",
       "      <td>1081.0</td>\n",
       "      <td>141.9</td>\n",
       "      <td>2571.0</td>\n",
       "      <td>1200.0</td>\n",
       "      <td>0.58</td>\n",
       "      <td>241.1</td>\n",
       "      <td>1.98</td>\n",
       "      <td>10.10</td>\n",
       "      <td>0.8</td>\n",
       "    </tr>\n",
       "  </tbody>\n",
       "</table>\n",
       "<p>98 rows × 13 columns</p>\n",
       "</div>"
      ],
      "text/plain": [
       "   Code  Médiane du niveau de vie  Taux de pauvreté                  Libellé  \\\n",
       "0    01                     22640              10.5                      Ain   \n",
       "1    02                     19100              18.5                    Aisne   \n",
       "2    03                     19750              15.4                   Allier   \n",
       "3    04                     19940              16.6  Alpes-de-Haute-Provence   \n",
       "4    05                     20350              13.9             Hautes-Alpes   \n",
       "..  ...                       ...               ...                      ...   \n",
       "93   93                     17310              27.9        Seine-Saint-Denis   \n",
       "94   94                     22290              16.3             Val-de-Marne   \n",
       "95   95                     21470              16.6               Val-d'Oise   \n",
       "96  972                     17580              28.6               Martinique   \n",
       "97  974                     15020              38.3                  Réunion   \n",
       "\n",
       "    Taux d'hospitalisation pour pathologies ORL 2020-S43  \\\n",
       "0                                                 0.0      \n",
       "1                                               119.0      \n",
       "2                                                 0.0      \n",
       "3                                               357.0      \n",
       "4                                                 0.0      \n",
       "..                                                ...      \n",
       "93                                              290.0      \n",
       "94                                              338.0      \n",
       "95                                              101.0      \n",
       "96                                                NaN      \n",
       "97                                             1081.0      \n",
       "\n",
       "    Taux standardisé de tentatives de suicide 2017  \\\n",
       "0                                            110.5   \n",
       "1                                            224.1   \n",
       "2                                            161.8   \n",
       "3                                            145.5   \n",
       "4                                            144.5   \n",
       "..                                             ...   \n",
       "93                                            58.6   \n",
       "94                                            77.6   \n",
       "95                                            85.4   \n",
       "96                                            84.6   \n",
       "97                                           141.9   \n",
       "\n",
       "    Taux d'hospitalisation pour asthme 2020-S44  \\\n",
       "0                                        5000.0   \n",
       "1                                        1538.0   \n",
       "2                                           0.0   \n",
       "3                                        1000.0   \n",
       "4                                        4000.0   \n",
       "..                                          ...   \n",
       "93                                       2364.0   \n",
       "94                                       2157.0   \n",
       "95                                       2581.0   \n",
       "96                                          NaN   \n",
       "97                                       2571.0   \n",
       "\n",
       "    Taux d'hospitalisation pour gastro-entérite aiguë 2020-S44  \\\n",
       "0                                                 0.0            \n",
       "1                                              1000.0            \n",
       "2                                              2222.2            \n",
       "3                                              1250.0            \n",
       "4                                              1428.6            \n",
       "..                                                ...            \n",
       "93                                             1428.6            \n",
       "94                                             1219.5            \n",
       "95                                             1000.0            \n",
       "96                                                NaN            \n",
       "97                                             1200.0            \n",
       "\n",
       "    Taux de notification - méningocoque B 2019  \\\n",
       "0                                         0.00   \n",
       "1                                         0.38   \n",
       "2                                         0.00   \n",
       "3                                         0.61   \n",
       "4                                         1.41   \n",
       "..                                         ...   \n",
       "93                                        0.12   \n",
       "94                                        0.21   \n",
       "95                                        0.08   \n",
       "96                                        0.28   \n",
       "97                                        0.58   \n",
       "\n",
       "    Taux standardisé de patients hospitalisés pour AVC 2016  \\\n",
       "0                                               154.1         \n",
       "1                                               171.6         \n",
       "2                                               163.9         \n",
       "3                                               148.1         \n",
       "4                                               143.9         \n",
       "..                                                ...         \n",
       "93                                              193.9         \n",
       "94                                              166.3         \n",
       "95                                              174.2         \n",
       "96                                              199.0         \n",
       "97                                              241.1         \n",
       "\n",
       "    Taux de prévalence standardisé de la maladie de Parkinson 2015  \\\n",
       "0                                                2.56                \n",
       "1                                                2.35                \n",
       "2                                                2.40                \n",
       "3                                                2.29                \n",
       "4                                                2.59                \n",
       "..                                                ...                \n",
       "93                                               2.16                \n",
       "94                                               2.24                \n",
       "95                                               2.62                \n",
       "96                                               1.64                \n",
       "97                                               1.98                \n",
       "\n",
       "    Taux de prévalence standardisé de diabète traité pharmacologiquement 2016  \\\n",
       "0                                                4.39                           \n",
       "1                                                6.27                           \n",
       "2                                                5.19                           \n",
       "3                                                4.32                           \n",
       "4                                                3.91                           \n",
       "..                                                ...                           \n",
       "93                                               7.76                           \n",
       "94                                               5.47                           \n",
       "95                                               6.43                           \n",
       "96                                               7.67                           \n",
       "97                                              10.10                           \n",
       "\n",
       "    Taux de sérologies positives pour VIH 2018  \n",
       "0                                          0.6  \n",
       "1                                          0.7  \n",
       "2                                          1.6  \n",
       "3                                          NaN  \n",
       "4                                          0.8  \n",
       "..                                         ...  \n",
       "93                                         2.9  \n",
       "94                                         2.9  \n",
       "95                                         1.8  \n",
       "96                                         2.8  \n",
       "97                                         0.8  \n",
       "\n",
       "[98 rows x 13 columns]"
      ]
     },
     "execution_count": 7,
     "metadata": {},
     "output_type": "execute_result"
    }
   ],
   "source": [
    "social_data"
   ]
  },
  {
   "cell_type": "code",
   "execution_count": 8,
   "metadata": {},
   "outputs": [
    {
     "data": {
      "text/plain": [
       "<Figure size 432x288 with 0 Axes>"
      ]
     },
     "metadata": {},
     "output_type": "display_data"
    }
   ],
   "source": [
    "fig = plt.figure()"
   ]
  },
  {
   "cell_type": "code",
   "execution_count": 9,
   "metadata": {},
   "outputs": [
    {
     "data": {
      "text/plain": [
       "<AxesSubplot:>"
      ]
     },
     "execution_count": 9,
     "metadata": {},
     "output_type": "execute_result"
    },
    {
     "data": {
      "image/png": "[encoded data removed]",
      "text/plain": [
       "<Figure size 432x288 with 2 Axes>"
      ]
     },
     "metadata": {
      "needs_background": "light"
     },
     "output_type": "display_data"
    }
   ],
   "source": [
    "sns.heatmap(social_data.corr(), vmin=0)"
   ]
  },
  {
   "cell_type": "markdown",
   "metadata": {},
   "source": [
    "> #### Bilan Phase d'Exploration\n",
    "> Le constat est que le niveau de vie semble être surtout corrélé avec le diabète."
   ]
  },
  {
   "cell_type": "markdown",
   "metadata": {},
   "source": [
    "## Phase 2 : Lien entre niveau de vie et diabète de type 2"
   ]
  },
  {
   "cell_type": "markdown",
   "metadata": {},
   "source": [
    "### Le diabète par département"
   ]
  },
  {
   "cell_type": "code",
   "execution_count": 10,
   "metadata": {},
   "outputs": [],
   "source": [
    "fp = 'Geo/departements-20140306-5m.shp'"
   ]
  },
  {
   "cell_type": "code",
   "execution_count": 11,
   "metadata": {},
   "outputs": [],
   "source": [
    "map_df = gpd.read_file(fp)"
   ]
  },
  {
   "cell_type": "code",
   "execution_count": 12,
   "metadata": {},
   "outputs": [
    {
     "data": {
      "text/html": [
       "<div>\n",
       "<style scoped>\n",
       "    .dataframe tbody tr th:only-of-type {\n",
       "        vertical-align: middle;\n",
       "    }\n",
       "\n",
       "    .dataframe tbody tr th {\n",
       "        vertical-align: top;\n",
       "    }\n",
       "\n",
       "    .dataframe thead th {\n",
       "        text-align: right;\n",
       "    }\n",
       "</style>\n",
       "<table border=\"1\" class=\"dataframe\">\n",
       "  <thead>\n",
       "    <tr style=\"text-align: right;\">\n",
       "      <th></th>\n",
       "      <th>code_insee</th>\n",
       "      <th>nom</th>\n",
       "      <th>nuts3</th>\n",
       "      <th>wikipedia</th>\n",
       "      <th>geometry</th>\n",
       "    </tr>\n",
       "  </thead>\n",
       "  <tbody>\n",
       "    <tr>\n",
       "      <th>0</th>\n",
       "      <td>01</td>\n",
       "      <td>Ain</td>\n",
       "      <td>FR711</td>\n",
       "      <td>b'fr:Ain (d\\xe9partement)'</td>\n",
       "      <td>POLYGON ((5.25559 45.78459, 5.24813 45.78176, ...</td>\n",
       "    </tr>\n",
       "    <tr>\n",
       "      <th>1</th>\n",
       "      <td>02</td>\n",
       "      <td>Aisne</td>\n",
       "      <td>FR221</td>\n",
       "      <td>b'fr:Aisne (d\\xe9partement)'</td>\n",
       "      <td>POLYGON ((3.48175 48.86640, 3.48144 48.86635, ...</td>\n",
       "    </tr>\n",
       "    <tr>\n",
       "      <th>2</th>\n",
       "      <td>03</td>\n",
       "      <td>Allier</td>\n",
       "      <td>FR721</td>\n",
       "      <td>b'fr:Allier (d\\xe9partement)'</td>\n",
       "      <td>POLYGON ((2.38613 46.33196, 2.38597 46.33203, ...</td>\n",
       "    </tr>\n",
       "    <tr>\n",
       "      <th>3</th>\n",
       "      <td>04</td>\n",
       "      <td>Alpes-de-Haute-Provence</td>\n",
       "      <td>FR821</td>\n",
       "      <td>fr:Alpes-de-Haute-Provence</td>\n",
       "      <td>POLYGON ((6.66579 43.83120, 6.66739 43.83119, ...</td>\n",
       "    </tr>\n",
       "    <tr>\n",
       "      <th>4</th>\n",
       "      <td>05</td>\n",
       "      <td>Hautes-Alpes</td>\n",
       "      <td>FR822</td>\n",
       "      <td>fr:Hautes-Alpes</td>\n",
       "      <td>POLYGON ((6.24158 44.44686, 6.24210 44.44732, ...</td>\n",
       "    </tr>\n",
       "    <tr>\n",
       "      <th>...</th>\n",
       "      <td>...</td>\n",
       "      <td>...</td>\n",
       "      <td>...</td>\n",
       "      <td>...</td>\n",
       "      <td>...</td>\n",
       "    </tr>\n",
       "    <tr>\n",
       "      <th>96</th>\n",
       "      <td>971</td>\n",
       "      <td>Guadeloupe</td>\n",
       "      <td>FR910</td>\n",
       "      <td>fr:Guadeloupe</td>\n",
       "      <td>MULTIPOLYGON (((-61.61403 15.83955, -61.61399 ...</td>\n",
       "    </tr>\n",
       "    <tr>\n",
       "      <th>97</th>\n",
       "      <td>972</td>\n",
       "      <td>Martinique</td>\n",
       "      <td>FR920</td>\n",
       "      <td>fr:Martinique</td>\n",
       "      <td>MULTIPOLYGON (((-60.86880 14.39091, -60.86875 ...</td>\n",
       "    </tr>\n",
       "    <tr>\n",
       "      <th>98</th>\n",
       "      <td>973</td>\n",
       "      <td>Guyane</td>\n",
       "      <td>FR930</td>\n",
       "      <td>fr:Guyane</td>\n",
       "      <td>MULTIPOLYGON (((-52.58463 5.28309, -52.58348 5...</td>\n",
       "    </tr>\n",
       "    <tr>\n",
       "      <th>99</th>\n",
       "      <td>974</td>\n",
       "      <td>b'La R\\xe9union'</td>\n",
       "      <td>FR940</td>\n",
       "      <td>b'fr:La R\\xe9union'</td>\n",
       "      <td>MULTIPOLYGON (((55.77886 -21.36291, 55.77889 -...</td>\n",
       "    </tr>\n",
       "    <tr>\n",
       "      <th>100</th>\n",
       "      <td>976</td>\n",
       "      <td>Mayotte</td>\n",
       "      <td>None</td>\n",
       "      <td>fr:Mayotte</td>\n",
       "      <td>MULTIPOLYGON (((45.13667 -13.00398, 45.13690 -...</td>\n",
       "    </tr>\n",
       "  </tbody>\n",
       "</table>\n",
       "<p>101 rows × 5 columns</p>\n",
       "</div>"
      ],
      "text/plain": [
       "    code_insee                      nom  nuts3                      wikipedia  \\\n",
       "0           01                      Ain  FR711     b'fr:Ain (d\\xe9partement)'   \n",
       "1           02                    Aisne  FR221   b'fr:Aisne (d\\xe9partement)'   \n",
       "2           03                   Allier  FR721  b'fr:Allier (d\\xe9partement)'   \n",
       "3           04  Alpes-de-Haute-Provence  FR821     fr:Alpes-de-Haute-Provence   \n",
       "4           05             Hautes-Alpes  FR822                fr:Hautes-Alpes   \n",
       "..         ...                      ...    ...                            ...   \n",
       "96         971               Guadeloupe  FR910                  fr:Guadeloupe   \n",
       "97         972               Martinique  FR920                  fr:Martinique   \n",
       "98         973                   Guyane  FR930                      fr:Guyane   \n",
       "99         974         b'La R\\xe9union'  FR940            b'fr:La R\\xe9union'   \n",
       "100        976                  Mayotte   None                     fr:Mayotte   \n",
       "\n",
       "                                              geometry  \n",
       "0    POLYGON ((5.25559 45.78459, 5.24813 45.78176, ...  \n",
       "1    POLYGON ((3.48175 48.86640, 3.48144 48.86635, ...  \n",
       "2    POLYGON ((2.38613 46.33196, 2.38597 46.33203, ...  \n",
       "3    POLYGON ((6.66579 43.83120, 6.66739 43.83119, ...  \n",
       "4    POLYGON ((6.24158 44.44686, 6.24210 44.44732, ...  \n",
       "..                                                 ...  \n",
       "96   MULTIPOLYGON (((-61.61403 15.83955, -61.61399 ...  \n",
       "97   MULTIPOLYGON (((-60.86880 14.39091, -60.86875 ...  \n",
       "98   MULTIPOLYGON (((-52.58463 5.28309, -52.58348 5...  \n",
       "99   MULTIPOLYGON (((55.77886 -21.36291, 55.77889 -...  \n",
       "100  MULTIPOLYGON (((45.13667 -13.00398, 45.13690 -...  \n",
       "\n",
       "[101 rows x 5 columns]"
      ]
     },
     "execution_count": 12,
     "metadata": {},
     "output_type": "execute_result"
    }
   ],
   "source": [
    "map_df"
   ]
  },
  {
   "cell_type": "code",
   "execution_count": 20,
   "metadata": {},
   "outputs": [],
   "source": [
    "metropole = map_df[:96]"
   ]
  },
  {
   "cell_type": "code",
   "execution_count": 14,
   "metadata": {},
   "outputs": [],
   "source": [
    "social_data_pauvrete = social_data[['Code', 'Taux de pauvreté']]"
   ]
  },
  {
   "cell_type": "code",
   "execution_count": 15,
   "metadata": {},
   "outputs": [],
   "source": [
    "social_data_diabete = social_data[['Code', 'Taux de prévalence standardisé de diabète traité pharmacologiquement 2016']]\n",
    "social_data_diabete = social_data_diabete.rename(columns={'Taux de prévalence standardisé de diabète traité pharmacologiquement 2016':'Diabète type II'})"
   ]
  },
  {
   "cell_type": "code",
   "execution_count": 16,
   "metadata": {},
   "outputs": [
    {
     "data": {
      "text/html": [
       "<div>\n",
       "<style scoped>\n",
       "    .dataframe tbody tr th:only-of-type {\n",
       "        vertical-align: middle;\n",
       "    }\n",
       "\n",
       "    .dataframe tbody tr th {\n",
       "        vertical-align: top;\n",
       "    }\n",
       "\n",
       "    .dataframe thead th {\n",
       "        text-align: right;\n",
       "    }\n",
       "</style>\n",
       "<table border=\"1\" class=\"dataframe\">\n",
       "  <thead>\n",
       "    <tr style=\"text-align: right;\">\n",
       "      <th></th>\n",
       "      <th>Code</th>\n",
       "      <th>Diabète type II</th>\n",
       "    </tr>\n",
       "  </thead>\n",
       "  <tbody>\n",
       "    <tr>\n",
       "      <th>0</th>\n",
       "      <td>01</td>\n",
       "      <td>4.39</td>\n",
       "    </tr>\n",
       "    <tr>\n",
       "      <th>1</th>\n",
       "      <td>02</td>\n",
       "      <td>6.27</td>\n",
       "    </tr>\n",
       "    <tr>\n",
       "      <th>2</th>\n",
       "      <td>03</td>\n",
       "      <td>5.19</td>\n",
       "    </tr>\n",
       "    <tr>\n",
       "      <th>3</th>\n",
       "      <td>04</td>\n",
       "      <td>4.32</td>\n",
       "    </tr>\n",
       "    <tr>\n",
       "      <th>4</th>\n",
       "      <td>05</td>\n",
       "      <td>3.91</td>\n",
       "    </tr>\n",
       "  </tbody>\n",
       "</table>\n",
       "</div>"
      ],
      "text/plain": [
       "  Code  Diabète type II\n",
       "0   01             4.39\n",
       "1   02             6.27\n",
       "2   03             5.19\n",
       "3   04             4.32\n",
       "4   05             3.91"
      ]
     },
     "execution_count": 16,
     "metadata": {},
     "output_type": "execute_result"
    }
   ],
   "source": [
    "social_data_diabete.head()"
   ]
  },
  {
   "cell_type": "code",
   "execution_count": 21,
   "metadata": {},
   "outputs": [],
   "source": [
    "merged = metropole.merge(social_data_diabete, left_on='code_insee', right_on='Code')"
   ]
  },
  {
   "cell_type": "code",
   "execution_count": 22,
   "metadata": {},
   "outputs": [
    {
     "data": {
      "text/html": [
       "<div>\n",
       "<style scoped>\n",
       "    .dataframe tbody tr th:only-of-type {\n",
       "        vertical-align: middle;\n",
       "    }\n",
       "\n",
       "    .dataframe tbody tr th {\n",
       "        vertical-align: top;\n",
       "    }\n",
       "\n",
       "    .dataframe thead th {\n",
       "        text-align: right;\n",
       "    }\n",
       "</style>\n",
       "<table border=\"1\" class=\"dataframe\">\n",
       "  <thead>\n",
       "    <tr style=\"text-align: right;\">\n",
       "      <th></th>\n",
       "      <th>code_insee</th>\n",
       "      <th>nom</th>\n",
       "      <th>nuts3</th>\n",
       "      <th>wikipedia</th>\n",
       "      <th>geometry</th>\n",
       "      <th>Code</th>\n",
       "      <th>Diabète type II</th>\n",
       "    </tr>\n",
       "  </thead>\n",
       "  <tbody>\n",
       "    <tr>\n",
       "      <th>0</th>\n",
       "      <td>01</td>\n",
       "      <td>Ain</td>\n",
       "      <td>FR711</td>\n",
       "      <td>b'fr:Ain (d\\xe9partement)'</td>\n",
       "      <td>POLYGON ((5.25559 45.78459, 5.24813 45.78176, ...</td>\n",
       "      <td>01</td>\n",
       "      <td>4.39</td>\n",
       "    </tr>\n",
       "    <tr>\n",
       "      <th>1</th>\n",
       "      <td>02</td>\n",
       "      <td>Aisne</td>\n",
       "      <td>FR221</td>\n",
       "      <td>b'fr:Aisne (d\\xe9partement)'</td>\n",
       "      <td>POLYGON ((3.48175 48.86640, 3.48144 48.86635, ...</td>\n",
       "      <td>02</td>\n",
       "      <td>6.27</td>\n",
       "    </tr>\n",
       "    <tr>\n",
       "      <th>2</th>\n",
       "      <td>03</td>\n",
       "      <td>Allier</td>\n",
       "      <td>FR721</td>\n",
       "      <td>b'fr:Allier (d\\xe9partement)'</td>\n",
       "      <td>POLYGON ((2.38613 46.33196, 2.38597 46.33203, ...</td>\n",
       "      <td>03</td>\n",
       "      <td>5.19</td>\n",
       "    </tr>\n",
       "    <tr>\n",
       "      <th>3</th>\n",
       "      <td>04</td>\n",
       "      <td>Alpes-de-Haute-Provence</td>\n",
       "      <td>FR821</td>\n",
       "      <td>fr:Alpes-de-Haute-Provence</td>\n",
       "      <td>POLYGON ((6.66579 43.83120, 6.66739 43.83119, ...</td>\n",
       "      <td>04</td>\n",
       "      <td>4.32</td>\n",
       "    </tr>\n",
       "    <tr>\n",
       "      <th>4</th>\n",
       "      <td>05</td>\n",
       "      <td>Hautes-Alpes</td>\n",
       "      <td>FR822</td>\n",
       "      <td>fr:Hautes-Alpes</td>\n",
       "      <td>POLYGON ((6.24158 44.44686, 6.24210 44.44732, ...</td>\n",
       "      <td>05</td>\n",
       "      <td>3.91</td>\n",
       "    </tr>\n",
       "    <tr>\n",
       "      <th>...</th>\n",
       "      <td>...</td>\n",
       "      <td>...</td>\n",
       "      <td>...</td>\n",
       "      <td>...</td>\n",
       "      <td>...</td>\n",
       "      <td>...</td>\n",
       "      <td>...</td>\n",
       "    </tr>\n",
       "    <tr>\n",
       "      <th>91</th>\n",
       "      <td>91</td>\n",
       "      <td>Essonne</td>\n",
       "      <td>FR104</td>\n",
       "      <td>b'fr:Essonne (d\\xe9partement)'</td>\n",
       "      <td>POLYGON ((2.39233 48.33593, 2.39382 48.33444, ...</td>\n",
       "      <td>91</td>\n",
       "      <td>5.28</td>\n",
       "    </tr>\n",
       "    <tr>\n",
       "      <th>92</th>\n",
       "      <td>92</td>\n",
       "      <td>Hauts-de-Seine</td>\n",
       "      <td>FR105</td>\n",
       "      <td>fr:Hauts-de-Seine</td>\n",
       "      <td>POLYGON ((2.31993 48.77075, 2.31786 48.76867, ...</td>\n",
       "      <td>92</td>\n",
       "      <td>4.67</td>\n",
       "    </tr>\n",
       "    <tr>\n",
       "      <th>93</th>\n",
       "      <td>93</td>\n",
       "      <td>Seine-Saint-Denis</td>\n",
       "      <td>FR106</td>\n",
       "      <td>fr:Seine-Saint-Denis</td>\n",
       "      <td>POLYGON ((2.41899 48.84939, 2.41636 48.84924, ...</td>\n",
       "      <td>93</td>\n",
       "      <td>7.76</td>\n",
       "    </tr>\n",
       "    <tr>\n",
       "      <th>94</th>\n",
       "      <td>94</td>\n",
       "      <td>Val-de-Marne</td>\n",
       "      <td>FR107</td>\n",
       "      <td>fr:Val-de-Marne</td>\n",
       "      <td>POLYGON ((2.41450 48.71780, 2.41320 48.71868, ...</td>\n",
       "      <td>94</td>\n",
       "      <td>5.47</td>\n",
       "    </tr>\n",
       "    <tr>\n",
       "      <th>95</th>\n",
       "      <td>95</td>\n",
       "      <td>Val-d'Oise</td>\n",
       "      <td>FR108</td>\n",
       "      <td>fr:Val-d'Oise</td>\n",
       "      <td>POLYGON ((1.79674 49.07196, 1.79719 49.07144, ...</td>\n",
       "      <td>95</td>\n",
       "      <td>6.43</td>\n",
       "    </tr>\n",
       "  </tbody>\n",
       "</table>\n",
       "<p>96 rows × 7 columns</p>\n",
       "</div>"
      ],
      "text/plain": [
       "   code_insee                      nom  nuts3                       wikipedia  \\\n",
       "0          01                      Ain  FR711      b'fr:Ain (d\\xe9partement)'   \n",
       "1          02                    Aisne  FR221    b'fr:Aisne (d\\xe9partement)'   \n",
       "2          03                   Allier  FR721   b'fr:Allier (d\\xe9partement)'   \n",
       "3          04  Alpes-de-Haute-Provence  FR821      fr:Alpes-de-Haute-Provence   \n",
       "4          05             Hautes-Alpes  FR822                 fr:Hautes-Alpes   \n",
       "..        ...                      ...    ...                             ...   \n",
       "91         91                  Essonne  FR104  b'fr:Essonne (d\\xe9partement)'   \n",
       "92         92           Hauts-de-Seine  FR105               fr:Hauts-de-Seine   \n",
       "93         93        Seine-Saint-Denis  FR106            fr:Seine-Saint-Denis   \n",
       "94         94             Val-de-Marne  FR107                 fr:Val-de-Marne   \n",
       "95         95               Val-d'Oise  FR108                   fr:Val-d'Oise   \n",
       "\n",
       "                                             geometry Code  Diabète type II  \n",
       "0   POLYGON ((5.25559 45.78459, 5.24813 45.78176, ...   01             4.39  \n",
       "1   POLYGON ((3.48175 48.86640, 3.48144 48.86635, ...   02             6.27  \n",
       "2   POLYGON ((2.38613 46.33196, 2.38597 46.33203, ...   03             5.19  \n",
       "3   POLYGON ((6.66579 43.83120, 6.66739 43.83119, ...   04             4.32  \n",
       "4   POLYGON ((6.24158 44.44686, 6.24210 44.44732, ...   05             3.91  \n",
       "..                                                ...  ...              ...  \n",
       "91  POLYGON ((2.39233 48.33593, 2.39382 48.33444, ...   91             5.28  \n",
       "92  POLYGON ((2.31993 48.77075, 2.31786 48.76867, ...   92             4.67  \n",
       "93  POLYGON ((2.41899 48.84939, 2.41636 48.84924, ...   93             7.76  \n",
       "94  POLYGON ((2.41450 48.71780, 2.41320 48.71868, ...   94             5.47  \n",
       "95  POLYGON ((1.79674 49.07196, 1.79719 49.07144, ...   95             6.43  \n",
       "\n",
       "[96 rows x 7 columns]"
      ]
     },
     "execution_count": 22,
     "metadata": {},
     "output_type": "execute_result"
    }
   ],
   "source": [
    "merged"
   ]
  },
  {
   "cell_type": "code",
   "execution_count": 23,
   "metadata": {},
   "outputs": [
    {
     "data": {
      "text/plain": [
       "<AxesSubplot:>"
      ]
     },
     "execution_count": 23,
     "metadata": {},
     "output_type": "execute_result"
    },
    {
     "data": {
      "image/png": "[encoded data removed]",
      "text/plain": [
       "<Figure size 720x432 with 1 Axes>"
      ]
     },
     "metadata": {
      "needs_background": "light"
     },
     "output_type": "display_data"
    }
   ],
   "source": [
    "variable = 'Diabète type II'\n",
    "vmin, vmax = 120, 220\n",
    "fig, ax = plt.subplots(1, figsize=(10, 6))\n",
    "merged.plot(column=variable, cmap='Blues', linewidth=0.8, ax=ax, edgecolor='0.8')"
   ]
  },
  {
   "cell_type": "code",
   "execution_count": 132,
   "metadata": {},
   "outputs": [
    {
     "data": {
      "text/plain": [
       "<AxesSubplot:>"
      ]
     },
     "execution_count": 132,
     "metadata": {},
     "output_type": "execute_result"
    },
    {
     "data": {
      "text/plain": [
       "<Figure size 432x288 with 0 Axes>"
      ]
     },
     "metadata": {},
     "output_type": "display_data"
    }
   ],
   "source": []
  },
  {
   "cell_type": "markdown",
   "metadata": {},
   "source": [
    "D'après le site de l'INSERM, le diabète de type II est entraîné par l'obésité. <br>\n",
    "Nous vérifierons s'il existe donc une corrélation entre obésité et "
   ]
  }
 ],
 "metadata": {
  "kernelspec": {
   "display_name": "Python 3",
   "language": "python",
   "name": "python3"
  },
  "language_info": {
   "codemirror_mode": {
    "name": "ipython",
    "version": 3
   },
   "file_extension": ".py",
   "mimetype": "text/x-python",
   "name": "python",
   "nbconvert_exporter": "python",
   "pygments_lexer": "ipython3",
   "version": "3.8.1"
  }
 },
 "nbformat": 4,
 "nbformat_minor": 4
}
