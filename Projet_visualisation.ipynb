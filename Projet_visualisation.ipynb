{
 "cells": [
  {
   "cell_type": "markdown",
   "metadata": {},
   "source": [
    "# Data visualisation project\n",
    "> **Uzma, Youssra, Félita**<br>\n",
    "> **M1 MéDAS 2020-2021**"
   ]
  },
  {
   "cell_type": "markdown",
   "metadata": {},
   "source": [
    "### Problématique"
   ]
  },
  {
   "cell_type": "markdown",
   "metadata": {},
   "source": [
    " Ayant un intérêt particulier pour la santé et les inégalités, nous voulons analyser comment ces deux enjeux sont liés. <br> Certaines études ont déjà été faites à ce sujet mais à une échelle beaucoup plus globale, notamment *The Spirit Level: Why Equality is Better for Everyone* de Richard G. Wilkinson et Kate Pickett. Nous aurons un objectif commun avec ce livre, démontrer les effets des inégalités sociales sur la santé, mais en nous concentrant sur la France et en explorant des maladies précises."
   ]
  },
  {
   "cell_type": "markdown",
   "metadata": {},
   "source": [
    "### Jeu de données"
   ]
  },
  {
   "cell_type": "markdown",
   "metadata": {},
   "source": [
    "Nous avons trouvé les données sur le site de l'INSEE, en choisissant un niveau de granularité départemental.<br>\n",
    "Nous avons choisi des indicateurs qui représentent au mieux le thème de l'inégalité tout en permettant une comparaison standardisée entre les départements :\n",
    "- le taux de pauvreté est plus représentatif des disparités sociales comparé à une moyenne des revenus\n",
    "- les taux de maladie standardisés homogénisent les différences démographiques"
   ]
  },
  {
   "cell_type": "markdown",
   "metadata": {},
   "source": [
    "### Questionnement et Méthode"
   ]
  },
  {
   "cell_type": "markdown",
   "metadata": {},
   "source": [
    "Partant du principe que la relation entre niveau de vie et santé est différent pour chaque maladie, nous nous basons sur un panel de 14 maladies de nature différentes. Notre méthodologie exploratoire nous permettra de répondre au questionnement suivant : pour quelles maladies le niveau de vie semble jouer un rôle important ? "
   ]
  },
  {
   "cell_type": "markdown",
   "metadata": {},
   "source": [
    "## Code"
   ]
  },
  {
   "cell_type": "code",
   "execution_count": 1,
   "metadata": {},
   "outputs": [],
   "source": [
    "import pandas as pd\n",
    "import matplotlib\n",
    "import matplotlib.pyplot as plt\n",
    "import numpy as np\n",
    "import os\n",
    "from functools import reduce\n",
    "import seaborn as sns"
   ]
  },
  {
   "cell_type": "code",
   "execution_count": 36,
   "metadata": {},
   "outputs": [],
   "source": [
    "items = os.listdir('Data/geodes')\n",
    "\n",
    "filenames = []\n",
    "files_list = []\n",
    "\n",
    "for file in items:\n",
    "    if file.endswith('.csv'):\n",
    "        files_list.append(file)\n",
    "        \n",
    "        filename = file.split('.')[0]\n",
    "        filenames.append(filename)"
   ]
  },
  {
   "cell_type": "code",
   "execution_count": 44,
   "metadata": {},
   "outputs": [],
   "source": [
    "maladies = []\n",
    "for file in files_list:\n",
    "    df = pd.read_csv(f\"Data/geodes/{file}\", sep=';', index_col=0, header=2)\n",
    "    maladies.append(df)  "
   ]
  },
  {
   "cell_type": "code",
   "execution_count": 30,
   "metadata": {},
   "outputs": [],
   "source": [
    "pauvrete = pd.read_csv('Data/pauvrete.csv', sep=';', index_col=0)\n",
    "pauvrete = pauvrete.iloc[:, 4]\n",
    "pauvrete.index.name = 'Code'"
   ]
  },
  {
   "cell_type": "code",
   "execution_count": 51,
   "metadata": {},
   "outputs": [
    {
     "ename": "TypeError",
     "evalue": "'int' object is not iterable",
     "output_type": "error",
     "traceback": [
      "\u001b[0;31m---------------------------------------------------------------------------\u001b[0m",
      "\u001b[0;31mTypeError\u001b[0m                                 Traceback (most recent call last)",
      "\u001b[0;32m<ipython-input-51-7068e2f684a6>\u001b[0m in \u001b[0;36m<module>\u001b[0;34m\u001b[0m\n\u001b[0;32m----> 1\u001b[0;31m \u001b[0;32mfor\u001b[0m \u001b[0mm\u001b[0m \u001b[0;32min\u001b[0m \u001b[0mlen\u001b[0m\u001b[0;34m(\u001b[0m\u001b[0mmaladies\u001b[0m\u001b[0;34m)\u001b[0m\u001b[0;34m:\u001b[0m\u001b[0;34m\u001b[0m\u001b[0;34m\u001b[0m\u001b[0m\n\u001b[0m\u001b[1;32m      2\u001b[0m     \u001b[0mpd\u001b[0m\u001b[0;34m.\u001b[0m\u001b[0mmerge\u001b[0m\u001b[0;34m(\u001b[0m\u001b[0mpauvrete\u001b[0m\u001b[0;34m,\u001b[0m \u001b[0mmaladies\u001b[0m\u001b[0;34m[\u001b[0m\u001b[0mm\u001b[0m\u001b[0;34m]\u001b[0m\u001b[0;34m,\u001b[0m \u001b[0mleft_index\u001b[0m\u001b[0;34m=\u001b[0m\u001b[0;32mTrue\u001b[0m\u001b[0;34m,\u001b[0m \u001b[0mright_index\u001b[0m\u001b[0;34m=\u001b[0m\u001b[0;32mTrue\u001b[0m\u001b[0;34m)\u001b[0m\u001b[0;34m\u001b[0m\u001b[0;34m\u001b[0m\u001b[0m\n",
      "\u001b[0;31mTypeError\u001b[0m: 'int' object is not iterable"
     ]
    }
   ],
   "source": [
    "for m in range(lenmaladies:\n",
    "    pd.merge(pauvrete, maladies[m], left_index=True, right_index=True)"
   ]
  },
  {
   "cell_type": "code",
   "execution_count": null,
   "metadata": {},
   "outputs": [],
   "source": []
  },
  {
   "cell_type": "markdown",
   "metadata": {},
   "source": [
    "### Phase Exploration : trouver les coefficients de corrélation pour chaque maladie"
   ]
  },
  {
   "cell_type": "code",
   "execution_count": 29,
   "metadata": {},
   "outputs": [
    {
     "data": {
      "text/html": [
       "<div>\n",
       "<style scoped>\n",
       "    .dataframe tbody tr th:only-of-type {\n",
       "        vertical-align: middle;\n",
       "    }\n",
       "\n",
       "    .dataframe tbody tr th {\n",
       "        vertical-align: top;\n",
       "    }\n",
       "\n",
       "    .dataframe thead th {\n",
       "        text-align: right;\n",
       "    }\n",
       "</style>\n",
       "<table border=\"1\" class=\"dataframe\">\n",
       "  <thead>\n",
       "    <tr style=\"text-align: right;\">\n",
       "      <th></th>\n",
       "      <th>TP6017</th>\n",
       "      <th>Taux standardisé de tentatives de suicide 2017</th>\n",
       "    </tr>\n",
       "  </thead>\n",
       "  <tbody>\n",
       "    <tr>\n",
       "      <th>TP6017</th>\n",
       "      <td>1.000000</td>\n",
       "      <td>-0.077856</td>\n",
       "    </tr>\n",
       "    <tr>\n",
       "      <th>Taux standardisé de tentatives de suicide 2017</th>\n",
       "      <td>-0.077856</td>\n",
       "      <td>1.000000</td>\n",
       "    </tr>\n",
       "  </tbody>\n",
       "</table>\n",
       "</div>"
      ],
      "text/plain": [
       "                                                  TP6017  \\\n",
       "TP6017                                          1.000000   \n",
       "Taux standardisé de tentatives de suicide 2017 -0.077856   \n",
       "\n",
       "                                                Taux standardisé de tentatives de suicide 2017  \n",
       "TP6017                                                                               -0.077856  \n",
       "Taux standardisé de tentatives de suicide 2017                                        1.000000  "
      ]
     },
     "execution_count": 29,
     "metadata": {},
     "output_type": "execute_result"
    }
   ],
   "source": [
    "merged.corr()"
   ]
  },
  {
   "cell_type": "code",
   "execution_count": null,
   "metadata": {},
   "outputs": [],
   "source": []
  }
 ],
 "metadata": {
  "kernelspec": {
   "display_name": "Python 3",
   "language": "python",
   "name": "python3"
  },
  "language_info": {
   "codemirror_mode": {
    "name": "ipython",
    "version": 3
   },
   "file_extension": ".py",
   "mimetype": "text/x-python",
   "name": "python",
   "nbconvert_exporter": "python",
   "pygments_lexer": "ipython3",
   "version": "3.8.1"
  }
 },
 "nbformat": 4,
 "nbformat_minor": 4
}
